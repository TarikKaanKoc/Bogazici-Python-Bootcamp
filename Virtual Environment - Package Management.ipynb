{
 "cells": [
  {
   "cell_type": "markdown",
   "id": "82aa1538",
   "metadata": {},
   "source": [
    "# Virtual Environment\n",
    "---\n",
    "Sanal ortam, farklı projelerdeki paketleri yönetmeye yarar. Sanal ortam kullanmak, global olarak paket yükledikten sonra çıkabilecek sorunları ortadan kaldırır. Bu tür hatalardan kaçınmak için Python uygulamaları geliştirirken her zaman sanal ortam kullanılması önerilir.\n",
    "\n",
    "İzole çalışma ortamları oluşturmak için kullanılan araçlardır. Farklı çalışmalar için oluşabilecek farklı kütüphane ve versiyon ihtiyaçlarını çalışmalar birbirini etkilemeyecek şekilde oluşturma imkanı sağlar. \n",
    "\n",
    "**Sanal Ortamlar :**\n",
    "\n",
    "* venv\n",
    "* virtualenv\n",
    "* pipenv\n",
    "* conda\n",
    "\n",
    "---\n",
    "# Package Management\n",
    "---\n",
    "Paket/Modül/Kütüphane Yönetimi. Pythonda paket yönetimi için kullanılan araçlar, pip(reuirements.txt) , pipenv(pipfile) , conda(environment.yaml)\n",
    "\n",
    "**Dikkat :**\n",
    "\n",
    "Conda, pipenv ile hem sanal ortam oluşturabilirsiniz hemde paket yöneticisi olarak kullanılabilmektedir. \n",
    "\n",
    "---\n",
    "## Sonuç; \n",
    "\n",
    "* venv ve virtualenv paket yönetim aracı olarak pip package management'i kullanmaktadır.\n",
    "* conda ve pipenv hem paket yönetimi hemde virtual environment yönetimi yapabilmektedir.\n",
    "---\n",
    "# Conda komutları : \n",
    "\n",
    "* Bilgisayarınızda mevcut olan sanal ortamların listelenmesi için: **conda env list** komutu kullanılmaktadır.\n",
    "* Kendi isteğiniz üzere, sanal ortam oluşturmak : **conda create -n sanalOrtamIsmi** komutu kullanılır.\n",
    "* Oluşturulan sanal ortamı aktif etmek için : **conda activate sanalOrtamIsmi** komutu kullanılır \n",
    "* Sanal ortam içerisindeki yüklü paketlerin görüntülemek için : **conda list** komutu kullanılır.\n",
    "* paket yüklemek için : **conda install paketIsmi** \n",
    "* aynı anda birden fazla paket yüklemek için : **conda install pandas numpy seaborn ...** Komutu kullanılır bir boşluk bırakarak diğer paket ismi yazılır. \n",
    "* yüklü olan paketi çalışmadan silmek için : **conda remove paketIsmı** komutu kullanılmaktadır.\n",
    "* Belirli bir versiyona göre paket yüklemek için : **conda install paketIsmi=1.1.0** pip'de == , condada tek eşittir kullanılır.\n",
    "* Paket yükseltmek için : **conda upgrade paketIsmı** komutu kullanılır. En güncel versiyona...\n",
    "* tüm paketlerin güncellenmesi : **conda upgrage -all**\n",
    "* çalışmış olduğumuz sanal ortamdan çıkmak için : **conda deactivate** komutu kullanılır.\n",
    "* çalışma ortamını silmek için : **conda env remove -n paketIsmi** komutu kullanılır. \n",
    "\n",
    "--- \n",
    "# pıp komutları \n",
    "\n",
    "* Paket yüklemek için : **pip install paketIsmi** komutu kullanılır\n",
    "* Paket yükleme versiyona göre : **pip install paketIsmi==0.0.0** komutu kullanılır. \n",
    "\n",
    "## Önemli - kütüphaneleri aktarmak:\n",
    "\n",
    "* conda ile başka bir çalışma veya bir kişiye kütüphaneleri ve versiyonları göndermek için : **conda env export > environment.yaml**  yaml veya yml olarakta kaydedilebilir. \n",
    "* pip ile : requirements.txt yaygındır. isimlendirme\n",
    "\n",
    "* Elimizde varolan sanal ortam bilgi setini, ismini, paketleri , paket versiyonlarını tutan bir dosyayı projemizde dahil edip, ayağa kaldırmak için : **conda env create -f environment.yaml**\n",
    "\n",
    "---"
   ]
  }
 ],
 "metadata": {
  "kernelspec": {
   "display_name": "Python 3 (ipykernel)",
   "language": "python",
   "name": "python3"
  },
  "language_info": {
   "codemirror_mode": {
    "name": "ipython",
    "version": 3
   },
   "file_extension": ".py",
   "mimetype": "text/x-python",
   "name": "python",
   "nbconvert_exporter": "python",
   "pygments_lexer": "ipython3",
   "version": "3.9.7"
  }
 },
 "nbformat": 4,
 "nbformat_minor": 5
}
